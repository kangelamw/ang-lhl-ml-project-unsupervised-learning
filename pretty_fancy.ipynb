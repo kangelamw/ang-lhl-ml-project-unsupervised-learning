{
 "cells": [
  {
   "cell_type": "markdown",
   "metadata": {},
   "source": [
    "### Prettify, Fancify\n",
    "\n",
    "This notebook is where the fancification of outputs happens. Keeps the other notebook(s) clean."
   ]
  },
  {
   "cell_type": "code",
   "execution_count": 1,
   "metadata": {},
   "outputs": [],
   "source": [
    "# Imports\n",
    "import os\n",
    "from functions import *"
   ]
  },
  {
   "cell_type": "markdown",
   "metadata": {},
   "source": [
    "##### File Structure"
   ]
  },
  {
   "cell_type": "code",
   "execution_count": 2,
   "metadata": {},
   "outputs": [
    {
     "data": {
      "text/plain": [
       "True"
      ]
     },
     "execution_count": 2,
     "metadata": {},
     "output_type": "execute_result"
    }
   ],
   "source": [
    "# File Structure\n",
    "path = './'\n",
    "\n",
    "os.path.exists(path)"
   ]
  },
  {
   "cell_type": "code",
   "execution_count": 3,
   "metadata": {},
   "outputs": [
    {
     "name": "stdout",
     "output_type": "stream",
     "text": [
      "├── data\n",
      "│   ├── processed\n",
      "│   ├── Wholesale_Data.csv\n",
      "├── etc\n",
      "│   ├── Final Project - Description - UnsupervisedLearning.docx\n",
      "│   ├── Final Project Rubric - Machine Learning.xlsx\n",
      "├── functions.py\n",
      "├── images\n",
      "├── pretty_fancy.ipynb\n",
      "├── README.md\n",
      "├── Unsupervised Learning - Project.ipynb\n",
      "├── __pycache__\n",
      "│   ├── functions.cpython-39.pyc\n",
      "\n"
     ]
    }
   ],
   "source": [
    "print(generate_file_structure(path))"
   ]
  },
  {
   "cell_type": "markdown",
   "metadata": {},
   "source": [
    "##### A"
   ]
  }
 ],
 "metadata": {
  "kernelspec": {
   "display_name": "ang-lhl_env",
   "language": "python",
   "name": "python3"
  },
  "language_info": {
   "codemirror_mode": {
    "name": "ipython",
    "version": 3
   },
   "file_extension": ".py",
   "mimetype": "text/x-python",
   "name": "python",
   "nbconvert_exporter": "python",
   "pygments_lexer": "ipython3",
   "version": "3.9.20"
  }
 },
 "nbformat": 4,
 "nbformat_minor": 2
}
